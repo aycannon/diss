{
 "cells": [
  {
   "cell_type": "code",
   "execution_count": 1,
   "metadata": {},
   "outputs": [],
   "source": [
    "import pandas as pd\n",
    "pd.options.display.float_format = '{:,.2f}'.format\n",
    "import numpy as np\n",
    "import matplotlib.pyplot as plt\n",
    "import os\n",
    "os.chdir('/Users/acannon/Dropbox')\n",
    "import seaborn as sns\n",
    "sns.set_theme()\n",
    "sns.set_palette('colorblind')\n",
    "import warnings\n",
    "warnings.filterwarnings('ignore')"
   ]
  },
  {
   "cell_type": "code",
   "execution_count": 2,
   "metadata": {},
   "outputs": [],
   "source": [
    "df_indicators = pd.read_excel('diss_data/more.xlsx')"
   ]
  },
  {
   "cell_type": "code",
   "execution_count": 3,
   "metadata": {},
   "outputs": [
    {
     "data": {
      "text/html": [
       "<div>\n",
       "<style scoped>\n",
       "    .dataframe tbody tr th:only-of-type {\n",
       "        vertical-align: middle;\n",
       "    }\n",
       "\n",
       "    .dataframe tbody tr th {\n",
       "        vertical-align: top;\n",
       "    }\n",
       "\n",
       "    .dataframe thead th {\n",
       "        text-align: right;\n",
       "    }\n",
       "</style>\n",
       "<table border=\"1\" class=\"dataframe\">\n",
       "  <thead>\n",
       "    <tr style=\"text-align: right;\">\n",
       "      <th></th>\n",
       "      <th>Date</th>\n",
       "      <th>period</th>\n",
       "      <th>land_sales_volume</th>\n",
       "      <th>all_vacancies</th>\n",
       "      <th>vacancy_ratio</th>\n",
       "      <th>new_cars</th>\n",
       "      <th>Y10</th>\n",
       "      <th>m7</th>\n",
       "      <th>month</th>\n",
       "      <th>spread</th>\n",
       "      <th>crude</th>\n",
       "      <th>crude_volume</th>\n",
       "      <th>period1</th>\n",
       "      <th>month2</th>\n",
       "    </tr>\n",
       "  </thead>\n",
       "  <tbody>\n",
       "    <tr>\n",
       "      <th>0</th>\n",
       "      <td>01/31/04</td>\n",
       "      <td>2004-01</td>\n",
       "      <td>NaN</td>\n",
       "      <td>2.30</td>\n",
       "      <td>2.4</td>\n",
       "      <td></td>\n",
       "      <td></td>\n",
       "      <td>NaN</td>\n",
       "      <td>NaN</td>\n",
       "      <td>NaN</td>\n",
       "      <td>NaN</td>\n",
       "      <td>NaN</td>\n",
       "      <td>2004-01</td>\n",
       "      <td>NaN</td>\n",
       "    </tr>\n",
       "    <tr>\n",
       "      <th>1</th>\n",
       "      <td>02/29/04</td>\n",
       "      <td>2004-02</td>\n",
       "      <td>NaN</td>\n",
       "      <td>2.30</td>\n",
       "      <td>2.3</td>\n",
       "      <td>91.45999999999999</td>\n",
       "      <td></td>\n",
       "      <td>NaN</td>\n",
       "      <td>NaN</td>\n",
       "      <td>NaN</td>\n",
       "      <td>NaN</td>\n",
       "      <td>NaN</td>\n",
       "      <td>2004-02</td>\n",
       "      <td>NaN</td>\n",
       "    </tr>\n",
       "    <tr>\n",
       "      <th>2</th>\n",
       "      <td>03/31/04</td>\n",
       "      <td>2004-03</td>\n",
       "      <td>NaN</td>\n",
       "      <td>2.30</td>\n",
       "      <td>2.3</td>\n",
       "      <td>466.96</td>\n",
       "      <td>4.72</td>\n",
       "      <td>NaN</td>\n",
       "      <td>NaN</td>\n",
       "      <td>NaN</td>\n",
       "      <td>31.51</td>\n",
       "      <td>933112</td>\n",
       "      <td>2004-03</td>\n",
       "      <td>NaN</td>\n",
       "    </tr>\n",
       "    <tr>\n",
       "      <th>3</th>\n",
       "      <td>04/30/04</td>\n",
       "      <td>2004-04</td>\n",
       "      <td>NaN</td>\n",
       "      <td>2.30</td>\n",
       "      <td>2.3</td>\n",
       "      <td>187</td>\n",
       "      <td>4.96</td>\n",
       "      <td>NaN</td>\n",
       "      <td>NaN</td>\n",
       "      <td>NaN</td>\n",
       "      <td>34.48</td>\n",
       "      <td>933233</td>\n",
       "      <td>2004-04</td>\n",
       "      <td>NaN</td>\n",
       "    </tr>\n",
       "    <tr>\n",
       "      <th>4</th>\n",
       "      <td>05/31/04</td>\n",
       "      <td>2004-05</td>\n",
       "      <td>NaN</td>\n",
       "      <td>2.40</td>\n",
       "      <td>2.3</td>\n",
       "      <td>194.48</td>\n",
       "      <td>5.11</td>\n",
       "      <td>4.26</td>\n",
       "      <td>4.26</td>\n",
       "      <td>0.85</td>\n",
       "      <td>36.58</td>\n",
       "      <td>918837</td>\n",
       "      <td>2004-05</td>\n",
       "      <td>4.26</td>\n",
       "    </tr>\n",
       "  </tbody>\n",
       "</table>\n",
       "</div>"
      ],
      "text/plain": [
       "       Date   period land_sales_volume  all_vacancies vacancy_ratio  \\\n",
       "0  01/31/04  2004-01               NaN           2.30           2.4   \n",
       "1  02/29/04  2004-02               NaN           2.30           2.3   \n",
       "2  03/31/04  2004-03               NaN           2.30           2.3   \n",
       "3  04/30/04  2004-04               NaN           2.30           2.3   \n",
       "4  05/31/04  2004-05               NaN           2.40           2.3   \n",
       "\n",
       "            new_cars   Y10    m7  month  spread  crude crude_volume  period1  \\\n",
       "0                            NaN    NaN     NaN    NaN          NaN  2004-01   \n",
       "1  91.45999999999999         NaN    NaN     NaN    NaN          NaN  2004-02   \n",
       "2             466.96  4.72   NaN    NaN     NaN  31.51       933112  2004-03   \n",
       "3                187  4.96   NaN    NaN     NaN  34.48       933233  2004-04   \n",
       "4             194.48  5.11  4.26   4.26    0.85  36.58       918837  2004-05   \n",
       "\n",
       "   month2  \n",
       "0     NaN  \n",
       "1     NaN  \n",
       "2     NaN  \n",
       "3     NaN  \n",
       "4    4.26  "
      ]
     },
     "execution_count": 3,
     "metadata": {},
     "output_type": "execute_result"
    }
   ],
   "source": [
    "df_spread = df_indicators[['Y10', 'month2']]\n",
    "df_indicators.head()"
   ]
  },
  {
   "cell_type": "code",
   "execution_count": 4,
   "metadata": {},
   "outputs": [],
   "source": [
    "df_spread['Y10'] = pd.to_numeric(df_spread['Y10'], errors= 'coerce')\n",
    "df_spread['spread'] = df_spread['Y10'] - df_spread['month2']\n",
    "df_spread['period'] = df_indicators['period']"
   ]
  },
  {
   "cell_type": "code",
   "execution_count": 5,
   "metadata": {},
   "outputs": [
    {
     "data": {
      "text/plain": [
       "<AxesSubplot:ylabel='spread'>"
      ]
     },
     "execution_count": 5,
     "metadata": {},
     "output_type": "execute_result"
    },
    {
     "data": {
      "image/png": "[encoded data removed]",
      "text/plain": [
       "<Figure size 640x480 with 1 Axes>"
      ]
     },
     "metadata": {},
     "output_type": "display_data"
    }
   ],
   "source": [
    "sns.lineplot(df_spread['spread'], label = 'Gilt Spread')\n"
   ]
  },
  {
   "cell_type": "code",
   "execution_count": null,
   "metadata": {},
   "outputs": [],
   "source": []
  }
 ],
 "metadata": {
  "kernelspec": {
   "display_name": "base",
   "language": "python",
   "name": "python3"
  },
  "language_info": {
   "codemirror_mode": {
    "name": "ipython",
    "version": 3
   },
   "file_extension": ".py",
   "mimetype": "text/x-python",
   "name": "python",
   "nbconvert_exporter": "python",
   "pygments_lexer": "ipython3",
   "version": "3.9.7"
  }
 },
 "nbformat": 4,
 "nbformat_minor": 2
}
